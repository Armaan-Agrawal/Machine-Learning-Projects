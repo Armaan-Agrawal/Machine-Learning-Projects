{
 "cells": [
  {
   "cell_type": "markdown",
   "id": "b6d42419",
   "metadata": {},
   "source": [
    "# Part A: Linear Regression"
   ]
  },
  {
   "cell_type": "markdown",
   "id": "70e3fc63",
   "metadata": {},
   "source": [
    "* Explore and import Boston Dataset"
   ]
  },
  {
   "cell_type": "code",
   "execution_count": 52,
   "id": "c3bdbd7d",
   "metadata": {},
   "outputs": [
    {
     "name": "stdout",
     "output_type": "stream",
     "text": [
      "The Boston dataset has the following shape: (506, 13)\n",
      "The Boston dataset target has the following shape: (506,)\n"
     ]
    },
    {
     "data": {
      "text/plain": [
       "24.0"
      ]
     },
     "execution_count": 52,
     "metadata": {},
     "output_type": "execute_result"
    }
   ],
   "source": [
    "from sklearn import datasets\n",
    "import numpy as np\n",
    "import warnings \n",
    "\n",
    "\n",
    "## Avoid printing out warnings\n",
    "with warnings.catch_warnings():\n",
    "    warnings.filterwarnings(\"ignore\")\n",
    "    mainDataset = datasets.load_boston()\n",
    "\n",
    "X = np.array(mainDataset.data)\n",
    "y = np.array(mainDataset.target)\n",
    "print(f\"The Boston dataset has the following shape: {X.shape}\")\n",
    "print(f\"The Boston dataset target has the following shape: {y.shape}\")\n",
    "\n",
    "y[0]\n"
   ]
  },
  {
   "cell_type": "markdown",
   "id": "3ebb86c2",
   "metadata": {},
   "source": [
    "## Closed Form Solution "
   ]
  },
  {
   "attachments": {},
   "cell_type": "markdown",
   "id": "e8b15b0f",
   "metadata": {},
   "source": [
    "* The closed form solution essentially allows us to focus on finding the unknowns of the simple linear equation:\n",
    "       \n",
    "       y = B1x + B0 (in our case it goes to B13)\n",
    "     \n",
    "* Thus the closed form solution is essentially the normal equation for linear regression which is derived by minimizing the mean squared error.\n",
    "\n",
    "* The normal equation requires us to express our data as a matrix of m rows and n+1 columns. The extra column is added to allows our data to not be restricted to pass through the origin (0,0) and adds a bias metric to it and keeps the coeefficient of x0 to 1 (simplistic).\n",
    "\n",
    "* Mathematically, the normal equation can be expressed as:  \n",
    "        "
   ]
  },
  {
   "attachments": {
    "normaleq.png": {
     "image/png": "[encoded data removed]"
    }
   },
   "cell_type": "markdown",
   "id": "aaa93516",
   "metadata": {},
   "source": [
    "![normaleq.png](attachment:normaleq.png)"
   ]
  },
  {
   "cell_type": "markdown",
   "id": "e1a30d49",
   "metadata": {},
   "source": [
    "* Once we get the theta, we can use it to make our simple equation: \n",
    "    * y = B1x + B0 or y = transposed_theta * X \n",
    "* This will allow us to create a simple model whose performance we can then test with the k-fold cross validation techinque"
   ]
  },
  {
   "cell_type": "code",
   "execution_count": 53,
   "id": "7bdd872b",
   "metadata": {},
   "outputs": [],
   "source": [
    "# first we need to add one to our X matrix\n",
    "\n",
    "numRows = X.shape[0]\n",
    "oneColumn = np.ones((numRows,1))\n",
    "X = np.c_[oneColumn,X]"
   ]
  },
  {
   "cell_type": "code",
   "execution_count": 54,
   "id": "69770a80",
   "metadata": {},
   "outputs": [
    {
     "name": "stdout",
     "output_type": "stream",
     "text": [
      "After Adding one Column, X shape: (506, 14)\n"
     ]
    },
    {
     "data": {
      "text/plain": [
       "array([1.000e+00, 6.320e-03, 1.800e+01, 2.310e+00, 0.000e+00, 5.380e-01,\n",
       "       6.575e+00, 6.520e+01, 4.090e+00, 1.000e+00, 2.960e+02, 1.530e+01,\n",
       "       3.969e+02, 4.980e+00])"
      ]
     },
     "execution_count": 54,
     "metadata": {},
     "output_type": "execute_result"
    }
   ],
   "source": [
    "print(f\"After Adding one Column, X shape: {X.shape}\")\n",
    "X[0]"
   ]
  },
  {
   "cell_type": "code",
   "execution_count": 55,
   "id": "017e98b5",
   "metadata": {},
   "outputs": [],
   "source": [
    "# now we need to find out theta (ie. our weights) for this we can use the inverse and transpose function from numpy\n",
    "from numpy.linalg import inv\n",
    "\n",
    "def weightsNormalEquation(X,y):\n",
    "    transpose = np.transpose(X)\n",
    "    termOne = inv(np.dot(transpose,X))\n",
    "    termTwo = np.dot(transpose,y)\n",
    "    theta = np.dot(termOne,termTwo)\n",
    "    return theta"
   ]
  },
  {
   "cell_type": "code",
   "execution_count": 56,
   "id": "84a30c08",
   "metadata": {},
   "outputs": [],
   "source": [
    "weight = weightsNormalEquation(X,y)"
   ]
  },
  {
   "cell_type": "code",
   "execution_count": 57,
   "id": "6271fafe",
   "metadata": {},
   "outputs": [
    {
     "data": {
      "text/plain": [
       "array([ 3.64594884e+01, -1.08011358e-01,  4.64204584e-02,  2.05586264e-02,\n",
       "        2.68673382e+00, -1.77666112e+01,  3.80986521e+00,  6.92224640e-04,\n",
       "       -1.47556685e+00,  3.06049479e-01, -1.23345939e-02, -9.52747232e-01,\n",
       "        9.31168327e-03, -5.24758378e-01])"
      ]
     },
     "execution_count": 57,
     "metadata": {},
     "output_type": "execute_result"
    }
   ],
   "source": [
    "weight"
   ]
  },
  {
   "cell_type": "markdown",
   "id": "b81f7f14",
   "metadata": {},
   "source": [
    "### Using K-Fold Cross Validation\n",
    "\n",
    "* Now we can utilize k-fold cross validation technique to see how good our model is. \n",
    "* This technique essentially allows us to train and evaluate on all parts of the data by splitting data into K equal parts and testing on them K number of times."
   ]
  },
  {
   "cell_type": "code",
   "execution_count": 95,
   "id": "0c0e1f6e",
   "metadata": {},
   "outputs": [],
   "source": [
    "# to do the performance analysis we will be making a function that performs K-fold cross validation by utilizing K-Fold from scikit-learn\n",
    "from sklearn.model_selection import KFold\n",
    "\n",
    "# this function will return to us the average recorded scores of the test and training dataset\n",
    "def kFoldCrossValidation(X,y):\n",
    "    kf = KFold(n_splits = 10)\n",
    "    \n",
    "    trainError = []\n",
    "    testError = []\n",
    "    \n",
    "    for i, (train_index, test_index) in enumerate(kf.split(X,y)):\n",
    "        X_train, X_test = X[train_index], X[test_index]\n",
    "        y_train, y_test = y[train_index], y[test_index]\n",
    "        \n",
    "        thetas = weightsNormalEquation(X_train,y_train)\n",
    "        \n",
    "        yTrainPredicted = np.dot(X_train,thetas)\n",
    "        yTestPredicted = np.dot(X_test,thetas)\n",
    "        \n",
    "        #now that we have the predicted values we can compute the root mean squared errors using the formula: \n",
    "        # root(mean(y-yPredicted)^2)\n",
    "        # we use rmse instead of mse as then the error will be in the same unit as our target\n",
    "        \n",
    "        rmseTrain = np.sqrt(np.mean((y_train - yTrainPredicted)**2))\n",
    "        rmseTest = np.sqrt(np.mean((y_test - yTestPredicted)**2))\n",
    "        \n",
    "        trainError.append(rmseTrain)\n",
    "        testError.append(rmseTest)\n",
    "    \n",
    "    avgTrainScore = np.mean(trainError)\n",
    "    avgTestScore = np.mean(testError)\n",
    "    \n",
    "    print(f\"The Average Train Recorded Score is {avgTrainScore}\")\n",
    "    print(f\"The Average Test Recorded Score is {avgTestScore}\")\n",
    "        "
   ]
  },
  {
   "cell_type": "code",
   "execution_count": 96,
   "id": "f584ffed",
   "metadata": {},
   "outputs": [
    {
     "name": "stdout",
     "output_type": "stream",
     "text": [
      "The Average Train Recorded Score is 4.609066917948424\n",
      "The Average Test Recorded Score is 5.18084567934023\n"
     ]
    }
   ],
   "source": [
    "kFoldCrossValidation(X,y)"
   ]
  },
  {
   "cell_type": "code",
   "execution_count": 89,
   "id": "bb7b5c56",
   "metadata": {},
   "outputs": [
    {
     "name": "stdout",
     "output_type": "stream",
     "text": [
      "Average Target Score: 22.532806324110677\n"
     ]
    }
   ],
   "source": [
    "# just to compare test results\n",
    "print(f\"Average Target Score: {np.mean(y)}\")"
   ]
  },
  {
   "cell_type": "markdown",
   "id": "596554ff",
   "metadata": {},
   "source": [
    "* Inference\n",
    "    * As we can see we have a greater testing error than training error this may indicate that our current model might be overfitting data\n",
    "    * Furthermore our training error is about 25% of the mean of our target data which seems to be a lot \n",
    "    * Our model is off by about around \\$5000 when it comes to predicting housing prices"
   ]
  },
  {
   "cell_type": "markdown",
   "id": "b96df253",
   "metadata": {},
   "source": [
    "## Ridge Regression"
   ]
  },
  {
   "cell_type": "markdown",
   "id": "dcc5d1f6",
   "metadata": {},
   "source": [
    "* Ridge regression is a regularization method that we will be using to improve our models performance.\n",
    "* With ridge regression we can attempt to lessen the overfitting of our model and penalize it more for its errors.\n",
    "* The penalty term for ridge regression is the shrinkage penalty (coeeficient square).\n",
    "* The normal equation for ridge regression can be expressed as the following:"
   ]
  },
  {
   "attachments": {
    "ridge.png": {
     "image/png": "[encoded data removed]"
    }
   },
   "cell_type": "markdown",
   "id": "45eb6e11",
   "metadata": {},
   "source": [
    "![ridge.png](attachment:ridge.png)"
   ]
  },
  {
   "cell_type": "code",
   "execution_count": 91,
   "id": "aa4b0f72",
   "metadata": {},
   "outputs": [],
   "source": [
    "# in order to obtain the coefficients for ridge regression we can create a function that takes in lambda and the data and target and returns the weight vector\n",
    "\n",
    "def weightsNormalRidge(lam, X, y):\n",
    "    numCols = X.shape[1]\n",
    "    transpose = np.transpose(X)\n",
    "    termOne = np.dot(transpose,X) + (lam*np.identity(numCols))\n",
    "    termTwo = np.dot(transpose,y)\n",
    "    return np.dot(inv(termOne),termTwo)"
   ]
  },
  {
   "cell_type": "code",
   "execution_count": 92,
   "id": "8cda4d62",
   "metadata": {},
   "outputs": [
    {
     "data": {
      "text/plain": [
       "array([ 2.99308584, -0.09383025,  0.05095982, -0.01636337,  2.14511078,\n",
       "       -0.50198021,  5.45139998, -0.00628537, -0.95927176,  0.18578046,\n",
       "       -0.01043664, -0.41277247,  0.01462951, -0.45437374])"
      ]
     },
     "execution_count": 92,
     "metadata": {},
     "output_type": "execute_result"
    }
   ],
   "source": [
    "weightsNormalRidge(10,X,y)"
   ]
  },
  {
   "cell_type": "code",
   "execution_count": 93,
   "id": "1950223f",
   "metadata": {},
   "outputs": [],
   "source": [
    "# to get different values of lambdas\n",
    "lambdaValues = np.logspace(1, 7, num=13)"
   ]
  },
  {
   "cell_type": "code",
   "execution_count": 94,
   "id": "91d50dde",
   "metadata": {},
   "outputs": [
    {
     "data": {
      "text/plain": [
       "array([1.00000000e+01, 3.16227766e+01, 1.00000000e+02, 3.16227766e+02,\n",
       "       1.00000000e+03, 3.16227766e+03, 1.00000000e+04, 3.16227766e+04,\n",
       "       1.00000000e+05, 3.16227766e+05, 1.00000000e+06, 3.16227766e+06,\n",
       "       1.00000000e+07])"
      ]
     },
     "execution_count": 94,
     "metadata": {},
     "output_type": "execute_result"
    }
   ],
   "source": [
    "lambdaValues"
   ]
  },
  {
   "cell_type": "code",
   "execution_count": 139,
   "id": "4877d2b4",
   "metadata": {},
   "outputs": [],
   "source": [
    "# we can now use k-fold cross validation with the rmse performance analysis metric to choose the best lambda \n",
    "\n",
    "\n",
    "def kFoldCrossValidationRidge(lam,X,y,trainList = [],testList = []):\n",
    "    kf = KFold(n_splits = 10)\n",
    "    \n",
    "    trainError = []\n",
    "    testError = []\n",
    "    \n",
    "    for i, (train_index, test_index) in enumerate(kf.split(X,y)):\n",
    "        X_train, X_test = X[train_index], X[test_index]\n",
    "        y_train, y_test = y[train_index], y[test_index]\n",
    "        \n",
    "        thetas = weightsNormalRidge(lam,X_train,y_train)\n",
    "        \n",
    "        yTrainPredicted = np.dot(X_train,thetas)\n",
    "        yTestPredicted = np.dot(X_test,thetas)\n",
    "        \n",
    "        #now that we have the predicted values we can compute the root mean squared errors using the formula: \n",
    "        # root(mean(y-yPredicted)^2)\n",
    "        \n",
    "        rmseTrain = np.sqrt(np.mean((y_train - yTrainPredicted)**2))\n",
    "        rmseTest = np.sqrt(np.mean((y_test - yTestPredicted)**2))\n",
    "        \n",
    "        trainError.append(rmseTrain)\n",
    "        testError.append(rmseTest)\n",
    "    \n",
    "    avgTrainScore = np.mean(trainError)\n",
    "    avgTestScore = np.mean(testError)\n",
    "    \n",
    "    print(f\"The Average Train Recorded Score is {avgTrainScore}\")\n",
    "    print(f\"The Average Test Recorded Score is {avgTestScore}\")\n",
    "    \n",
    "    trainList.append(avgTrainScore)\n",
    "    testList.append(avgTestScore)"
   ]
  },
  {
   "cell_type": "code",
   "execution_count": 140,
   "id": "fb4344ef",
   "metadata": {},
   "outputs": [
    {
     "name": "stdout",
     "output_type": "stream",
     "text": [
      "Lambda Value 10.0: \n",
      "The Average Train Recorded Score is 4.8354231788975\n",
      "The Average Test Recorded Score is 4.886339306390932\n",
      "\n",
      "Lambda Value 31.622776601683793: \n",
      "The Average Train Recorded Score is 4.884941156626537\n",
      "The Average Test Recorded Score is 4.962596168933465\n",
      "\n",
      "Lambda Value 100.0: \n",
      "The Average Train Recorded Score is 5.034280506060113\n",
      "The Average Test Recorded Score is 5.305449602680708\n",
      "\n",
      "Lambda Value 316.22776601683796: \n",
      "The Average Train Recorded Score is 5.487423603098882\n",
      "The Average Test Recorded Score is 6.17747543196394\n",
      "\n",
      "Lambda Value 1000.0: \n",
      "The Average Train Recorded Score is 6.141155057881077\n",
      "The Average Test Recorded Score is 7.204962101315877\n",
      "\n",
      "Lambda Value 3162.2776601683795: \n",
      "The Average Train Recorded Score is 6.6813626855160635\n",
      "The Average Test Recorded Score is 7.854903696023331\n",
      "\n",
      "Lambda Value 10000.0: \n",
      "The Average Train Recorded Score is 7.209535034086183\n",
      "The Average Test Recorded Score is 8.242326310824097\n",
      "\n",
      "Lambda Value 31622.776601683792: \n",
      "The Average Train Recorded Score is 7.795553444123579\n",
      "The Average Test Recorded Score is 8.554661472353777\n",
      "\n",
      "Lambda Value 100000.0: \n",
      "The Average Train Recorded Score is 8.268896272333489\n",
      "The Average Test Recorded Score is 8.767154156786788\n",
      "\n",
      "Lambda Value 316227.7660168379: \n",
      "The Average Train Recorded Score is 8.593351919746636\n",
      "The Average Test Recorded Score is 8.899941922546663\n",
      "\n",
      "Lambda Value 1000000.0: \n",
      "The Average Train Recorded Score is 8.826079016967903\n",
      "The Average Test Recorded Score is 8.938219277703968\n",
      "\n",
      "Lambda Value 3162277.6601683795: \n",
      "The Average Train Recorded Score is 9.091245939959133\n",
      "The Average Test Recorded Score is 8.889717156578257\n",
      "\n",
      "Lambda Value 10000000.0: \n",
      "The Average Train Recorded Score is 9.77348881357862\n",
      "The Average Test Recorded Score is 9.252337881843895\n",
      "\n"
     ]
    }
   ],
   "source": [
    "# going through each lambda value and calcultating recorded scores for them\n",
    "\n",
    "lambdaTrainScores = []\n",
    "lambdaTestScores = []\n",
    "\n",
    "for l in lambdaValues:\n",
    "    print(f\"Lambda Value {l}: \")\n",
    "    kFoldCrossValidationRidge(l,X,y,lambdaTrainScores,lambdaTestScores)\n",
    "    print()"
   ]
  },
  {
   "cell_type": "code",
   "execution_count": 141,
   "id": "2bfc0d09",
   "metadata": {},
   "outputs": [
    {
     "name": "stdout",
     "output_type": "stream",
     "text": [
      "Minimum Lambda Train Score Value: 4.8354231788975 - for lambda: 10.0\n",
      "Minimum Lambda Test Score Value: 4.886339306390932 - for lambda: 10.0\n"
     ]
    }
   ],
   "source": [
    "print(f\"Minimum Lambda Train Score Value: {min(lambdaTrainScores)} - for lambda: {lambdaValues[lambdaTrainScores.index(min(lambdaTrainScores))]}\")\n",
    "print(f\"Minimum Lambda Test Score Value: {min(lambdaTestScores)} - for lambda: {lambdaValues[lambdaTrainScores.index(min(lambdaTrainScores))]}\")"
   ]
  },
  {
   "cell_type": "markdown",
   "id": "81b7201b",
   "metadata": {},
   "source": [
    "* Hence, the best lambda is 10"
   ]
  },
  {
   "cell_type": "code",
   "execution_count": 142,
   "id": "61515698",
   "metadata": {},
   "outputs": [
    {
     "name": "stdout",
     "output_type": "stream",
     "text": [
      "Lambda Value: 10\n",
      "The Average Train Recorded Score is 4.8354231788975\n",
      "The Average Test Recorded Score is 4.886339306390932\n"
     ]
    }
   ],
   "source": [
    "# Performance Estimation for best lambda\n",
    "print(f\"Lambda Value: 10\")\n",
    "kFoldCrossValidationRidge(10,X,y)"
   ]
  },
  {
   "cell_type": "markdown",
   "id": "be0f6130",
   "metadata": {},
   "source": [
    "## Degree Two Polynomial Features"
   ]
  },
  {
   "cell_type": "markdown",
   "id": "5de4c498",
   "metadata": {},
   "source": [
    "* Trying out polynomial regression to get better coefficients (weight) and to uncover if there is any synergy amongst the features"
   ]
  },
  {
   "cell_type": "code",
   "execution_count": 143,
   "id": "4d3c7799",
   "metadata": {},
   "outputs": [
    {
     "data": {
      "text/plain": [
       "PolynomialFeatures()"
      ]
     },
     "execution_count": 143,
     "metadata": {},
     "output_type": "execute_result"
    }
   ],
   "source": [
    "from sklearn.preprocessing import PolynomialFeatures\n",
    "polynomial_converter = PolynomialFeatures(degree=2,include_bias=True)\n",
    "polynomial_converter.fit(np.array(mainDataset.data))"
   ]
  },
  {
   "cell_type": "code",
   "execution_count": 144,
   "id": "e331af33",
   "metadata": {},
   "outputs": [
    {
     "data": {
      "text/plain": [
       "(506, 105)"
      ]
     },
     "execution_count": 144,
     "metadata": {},
     "output_type": "execute_result"
    }
   ],
   "source": [
    "mainData = np.array(mainDataset.data)\n",
    "poly_features = polynomial_converter.transform(mainData)\n",
    "poly_features.shape"
   ]
  },
  {
   "cell_type": "code",
   "execution_count": 145,
   "id": "ff500d43",
   "metadata": {},
   "outputs": [
    {
     "data": {
      "text/plain": [
       "(506, 13)"
      ]
     },
     "execution_count": 145,
     "metadata": {},
     "output_type": "execute_result"
    }
   ],
   "source": [
    "mainData.shape"
   ]
  },
  {
   "cell_type": "code",
   "execution_count": 146,
   "id": "168a8a8b",
   "metadata": {},
   "outputs": [
    {
     "data": {
      "text/plain": [
       "(506,)"
      ]
     },
     "execution_count": 146,
     "metadata": {},
     "output_type": "execute_result"
    }
   ],
   "source": [
    "y.shape"
   ]
  },
  {
   "cell_type": "code",
   "execution_count": 147,
   "id": "66252863",
   "metadata": {},
   "outputs": [
    {
     "name": "stdout",
     "output_type": "stream",
     "text": [
      "Lambda Value 10.0: \n",
      "The Average Train Recorded Score is 2.560086944334837\n",
      "The Average Test Recorded Score is 6.191736969117406\n",
      "\n",
      "Lambda Value 31.622776601683793: \n",
      "The Average Train Recorded Score is 2.641643264664011\n",
      "The Average Test Recorded Score is 6.170186264528799\n",
      "\n",
      "Lambda Value 100.0: \n",
      "The Average Train Recorded Score is 2.727438866426298\n",
      "The Average Test Recorded Score is 6.262518410492431\n",
      "\n",
      "Lambda Value 316.22776601683796: \n",
      "The Average Train Recorded Score is 2.806139642905879\n",
      "The Average Test Recorded Score is 6.3972470152159655\n",
      "\n",
      "Lambda Value 1000.0: \n",
      "The Average Train Recorded Score is 2.8897071380280805\n",
      "The Average Test Recorded Score is 6.4154664055651835\n",
      "\n",
      "Lambda Value 3162.2776601683795: \n",
      "The Average Train Recorded Score is 2.983992390163462\n",
      "The Average Test Recorded Score is 6.303247677585791\n",
      "\n",
      "Lambda Value 10000.0: \n",
      "The Average Train Recorded Score is 3.074840108962867\n",
      "The Average Test Recorded Score is 6.134519394544973\n",
      "\n",
      "Lambda Value 31622.776601683792: \n",
      "The Average Train Recorded Score is 3.16931000512562\n",
      "The Average Test Recorded Score is 5.9598896864442725\n",
      "\n",
      "Lambda Value 100000.0: \n",
      "The Average Train Recorded Score is 3.2967169999845325\n",
      "The Average Test Recorded Score is 5.735803930994834\n",
      "\n",
      "Lambda Value 316227.7660168379: \n",
      "The Average Train Recorded Score is 3.4591215873572176\n",
      "The Average Test Recorded Score is 5.370878951157552\n",
      "\n",
      "Lambda Value 1000000.0: \n",
      "The Average Train Recorded Score is 3.6808287984512846\n",
      "The Average Test Recorded Score is 5.093512652742837\n",
      "\n",
      "Lambda Value 3162277.6601683795: \n",
      "The Average Train Recorded Score is 4.064898869576118\n",
      "The Average Test Recorded Score is 5.737658716302328\n",
      "\n",
      "Lambda Value 10000000.0: \n",
      "The Average Train Recorded Score is 4.601202347934699\n",
      "The Average Test Recorded Score is 6.272786984868041\n",
      "\n"
     ]
    }
   ],
   "source": [
    "# now doing kfold cross validation to identify the best lambda for polynomial regression\n",
    "\n",
    "polyLambdaTrain = []\n",
    "polyLambdaTest = []\n",
    "\n",
    "for l in lambdaValues:\n",
    "    print(f\"Lambda Value {l}: \")\n",
    "    kFoldCrossValidationRidge(l,poly_features,y,polyLambdaTrain,polyLambdaTest)\n",
    "    print()\n"
   ]
  },
  {
   "cell_type": "code",
   "execution_count": 148,
   "id": "2fa30e1d",
   "metadata": {},
   "outputs": [
    {
     "name": "stdout",
     "output_type": "stream",
     "text": [
      "Minimum Lambda Train Score Value: 2.560086944334837 - for lambda: 10.0\n",
      "Minimum Lambda Test Score Value: 5.093512652742837 - for lambda: 1000000.0\n"
     ]
    }
   ],
   "source": [
    "print(f\"Minimum Lambda Train Score Value: {min(polyLambdaTrain)} - for lambda: {lambdaValues[polyLambdaTrain.index(min(polyLambdaTrain))]}\")\n",
    "print(f\"Minimum Lambda Test Score Value: {min(polyLambdaTest)} - for lambda: {lambdaValues[polyLambdaTest.index(min(polyLambdaTest))]}\")"
   ]
  },
  {
   "cell_type": "markdown",
   "id": "f8005a48",
   "metadata": {},
   "source": [
    "* Here our focus is to reduce overfitting, thus the best lambda is 100000 as the error discrepancy between the training and testing data is not a lot"
   ]
  },
  {
   "cell_type": "code",
   "execution_count": 150,
   "id": "f1d5c7b9",
   "metadata": {},
   "outputs": [
    {
     "name": "stdout",
     "output_type": "stream",
     "text": [
      "Lambda Value: 1000000\n",
      "The Average Train Recorded Score is 3.6808287984512846\n",
      "The Average Test Recorded Score is 5.093512652742837\n"
     ]
    }
   ],
   "source": [
    "# Performance Estimation for best lambda\n",
    "print(f\"Lambda Value: 1000000\")\n",
    "kFoldCrossValidationRidge(1000000,poly_features,y)"
   ]
  },
  {
   "cell_type": "markdown",
   "id": "7ca0cbf4",
   "metadata": {},
   "source": [
    "## Multivariate Linear Regression - Gradient Descent Method"
   ]
  },
  {
   "cell_type": "markdown",
   "id": "41a0fe70",
   "metadata": {},
   "source": [
    "* The gradient descent is an optimization algorithm allowing us to minimize the cost function faster.\n",
    "* To prepare for gradient descent, it is better if we can scale our data first so that we can reach the minimum faster\n",
    "* The gradient vector for the cost function is as follows:"
   ]
  },
  {
   "attachments": {
    "gd.png": {
     "image/png": "[encoded data removed]"
    }
   },
   "cell_type": "markdown",
   "id": "7517fe8b",
   "metadata": {},
   "source": [
    "![gd.png](attachment:gd.png)"
   ]
  },
  {
   "cell_type": "markdown",
   "id": "c35500fc",
   "metadata": {},
   "source": [
    "* Gradient Descent also introduces additional parameters such as the learning rate and the number of iterations, in order to hypertune them we can deploy k-fold cross validation"
   ]
  },
  {
   "cell_type": "markdown",
   "id": "db9571ba",
   "metadata": {},
   "source": [
    "* The gradient descent step is calculated as follows:"
   ]
  },
  {
   "attachments": {
    "hds.png": {
     "image/png": "[encoded data removed]"
    }
   },
   "cell_type": "markdown",
   "id": "5d9df3b7",
   "metadata": {},
   "source": [
    "![hds.png](attachment:hds.png)"
   ]
  },
  {
   "cell_type": "code",
   "execution_count": 191,
   "id": "b19c801c",
   "metadata": {},
   "outputs": [
    {
     "data": {
      "text/plain": [
       "StandardScaler()"
      ]
     },
     "execution_count": 191,
     "metadata": {},
     "output_type": "execute_result"
    }
   ],
   "source": [
    "# first we need to feature scale our data to make it ready for gradient descent\n",
    "# before feature scaling we need to split it to avoid data leakage\n",
    "# Standardizing Data with Z-Score Normalization\n",
    "from sklearn.preprocessing import StandardScaler\n",
    "from sklearn.model_selection import train_test_split\n",
    "\n",
    "X_train, X_test, y_train, y_test = train_test_split(mainData, y, test_size=0.3, random_state=10)\n",
    "scaler = StandardScaler()\n",
    "scaler.fit(X_train)"
   ]
  },
  {
   "cell_type": "code",
   "execution_count": 192,
   "id": "7d583422",
   "metadata": {},
   "outputs": [],
   "source": [
    "scaledData = scaler.transform(mainData)"
   ]
  },
  {
   "cell_type": "code",
   "execution_count": 193,
   "id": "e49eedb4",
   "metadata": {},
   "outputs": [
    {
     "data": {
      "text/plain": [
       "array([[-0.43055341,  0.27857825, -1.32566533, ..., -1.51638705,\n",
       "         0.4497093 , -1.13515486],\n",
       "       [-0.427977  , -0.47088369, -0.64079331, ..., -0.35498286,\n",
       "         0.4497093 , -0.54404779],\n",
       "       [-0.42797945, -0.47088369, -0.64079331, ..., -0.35498286,\n",
       "         0.4066316 , -1.27014326],\n",
       "       ...,\n",
       "       [-0.42387117, -0.47088369,  0.05846677, ...,  1.1316145 ,\n",
       "         0.4497093 , -1.04137345],\n",
       "       [-0.41787753, -0.47088369,  0.05846677, ...,  1.1316145 ,\n",
       "         0.41319381, -0.92201529],\n",
       "       [-0.42550982, -0.47088369,  0.05846677, ...,  1.1316145 ,\n",
       "         0.4497093 , -0.72308502]])"
      ]
     },
     "execution_count": 193,
     "metadata": {},
     "output_type": "execute_result"
    }
   ],
   "source": [
    "scaledData"
   ]
  },
  {
   "cell_type": "code",
   "execution_count": 194,
   "id": "4f7341b6",
   "metadata": {},
   "outputs": [
    {
     "data": {
      "text/plain": [
       "(506,)"
      ]
     },
     "execution_count": 194,
     "metadata": {},
     "output_type": "execute_result"
    }
   ],
   "source": [
    "y.shape"
   ]
  },
  {
   "cell_type": "code",
   "execution_count": 195,
   "id": "2da8240b",
   "metadata": {},
   "outputs": [],
   "source": [
    "#adding bias to scaled X\n",
    "numRows = scaledData.shape[0]\n",
    "oneColumn = np.ones((numRows,1))\n",
    "scaledData = np.c_[oneColumn,scaledData]"
   ]
  },
  {
   "cell_type": "code",
   "execution_count": 196,
   "id": "f1f19936",
   "metadata": {},
   "outputs": [
    {
     "data": {
      "text/plain": [
       "(506, 14)"
      ]
     },
     "execution_count": 196,
     "metadata": {},
     "output_type": "execute_result"
    }
   ],
   "source": [
    "scaledData.shape"
   ]
  },
  {
   "cell_type": "code",
   "execution_count": 197,
   "id": "addeb95c",
   "metadata": {},
   "outputs": [],
   "source": [
    "# we also need to reshape our y to match with the dimension of the target values\n",
    "reshapedY = np.reshape(y,(len(y),1))"
   ]
  },
  {
   "cell_type": "code",
   "execution_count": 198,
   "id": "57d9b547",
   "metadata": {},
   "outputs": [
    {
     "data": {
      "text/plain": [
       "(506, 1)"
      ]
     },
     "execution_count": 198,
     "metadata": {},
     "output_type": "execute_result"
    }
   ],
   "source": [
    "reshapedY.shape"
   ]
  },
  {
   "cell_type": "code",
   "execution_count": 199,
   "id": "fc7d9f92",
   "metadata": {},
   "outputs": [],
   "source": [
    "# now we can create a gradient descent function that intializes the theta with random values first and then perfoms 1000 iterations to reach the minima\n",
    "\n",
    "def gradientDescent(X,y,learningRate,iterations=1000):\n",
    "    theta = np.random.randn(X.shape[1], 1)\n",
    "    m = X.shape[0]\n",
    "    \n",
    "    for i in range(iterations):\n",
    "        transpose = np.transpose(X)\n",
    "        termOne = (2/m) * transpose\n",
    "        termSecond = np.dot(X,theta) - y\n",
    "        gradient = np.dot(termOne,termSecond)\n",
    "        theta = theta - learningRate * gradient \n",
    "    return theta"
   ]
  },
  {
   "cell_type": "code",
   "execution_count": 200,
   "id": "d8bfb696",
   "metadata": {},
   "outputs": [],
   "source": [
    "learningRateValues = np.logspace(-11,-1, num=11)"
   ]
  },
  {
   "cell_type": "code",
   "execution_count": 201,
   "id": "0a0ffd86",
   "metadata": {},
   "outputs": [],
   "source": [
    "def kFoldCrossValidationGD(eta,X,y,trainList = [],testList = []):\n",
    "    kf = KFold(n_splits = 10)\n",
    "    \n",
    "    trainError = []\n",
    "    testError = []\n",
    "    \n",
    "    for i, (train_index, test_index) in enumerate(kf.split(X,y)):\n",
    "        X_train, X_test = X[train_index], X[test_index]\n",
    "        y_train, y_test = y[train_index], y[test_index]\n",
    "        \n",
    "        thetas = gradientDescent(X_train,y_train,eta)\n",
    "        \n",
    "        yTrainPredicted = np.dot(X_train,thetas)\n",
    "        yTestPredicted = np.dot(X_test,thetas)\n",
    "        \n",
    "        #now that we have the predicted values we can compute the root mean squared errors using the formula: \n",
    "        # root(mean(y-yPredicted)^2)\n",
    "        \n",
    "        rmseTrain = np.sqrt(np.mean((y_train - yTrainPredicted)**2))\n",
    "        rmseTest = np.sqrt(np.mean((y_test - yTestPredicted)**2))\n",
    "        \n",
    "        trainError.append(rmseTrain)\n",
    "        testError.append(rmseTest)\n",
    "    \n",
    "    avgTrainScore = np.mean(trainError)\n",
    "    avgTestScore = np.mean(testError)\n",
    "    \n",
    "    print(f\"The Average Train Recorded Score is {avgTrainScore}\")\n",
    "    print(f\"The Average Test Recorded Score is {avgTestScore}\")\n",
    "    \n",
    "    trainList.append(avgTrainScore)\n",
    "    testList.append(avgTestScore)"
   ]
  },
  {
   "cell_type": "code",
   "execution_count": 202,
   "id": "445eec96",
   "metadata": {},
   "outputs": [
    {
     "name": "stdout",
     "output_type": "stream",
     "text": [
      "Learning Rate Value 1e-11: \n",
      "The Average Train Recorded Score is 24.741657835704054\n",
      "The Average Test Recorded Score is 24.63537260205475\n",
      "\n",
      "Learning Rate Value 1e-10: \n",
      "The Average Train Recorded Score is 24.403844621334876\n",
      "The Average Test Recorded Score is 23.818774856187936\n",
      "\n",
      "Learning Rate Value 1e-09: \n",
      "The Average Train Recorded Score is 24.38001125207915\n",
      "The Average Test Recorded Score is 22.49197269480133\n",
      "\n",
      "Learning Rate Value 1e-08: \n",
      "The Average Train Recorded Score is 24.72878066508496\n",
      "The Average Test Recorded Score is 23.42647888192202\n",
      "\n",
      "Learning Rate Value 1e-07: \n",
      "The Average Train Recorded Score is 23.99484943154626\n",
      "The Average Test Recorded Score is 24.640993406781952\n",
      "\n",
      "Learning Rate Value 1e-06: \n",
      "The Average Train Recorded Score is 24.482937547476133\n",
      "The Average Test Recorded Score is 24.21541374512311\n",
      "\n",
      "Learning Rate Value 1e-05: \n",
      "The Average Train Recorded Score is 23.596445400024226\n",
      "The Average Test Recorded Score is 23.289385247237252\n",
      "\n",
      "Learning Rate Value 0.0001: \n",
      "The Average Train Recorded Score is 19.508618962450026\n",
      "The Average Test Recorded Score is 20.867551399869885\n",
      "\n",
      "Learning Rate Value 0.001: \n",
      "The Average Train Recorded Score is 5.77174856853418\n",
      "The Average Test Recorded Score is 6.930203557740896\n",
      "\n",
      "Learning Rate Value 0.01: \n",
      "The Average Train Recorded Score is 4.616389372987913\n",
      "The Average Test Recorded Score is 5.155805816848026\n",
      "\n",
      "Learning Rate Value 0.1: \n",
      "The Average Train Recorded Score is 4.609066918014589\n",
      "The Average Test Recorded Score is 5.180849098350093\n",
      "\n"
     ]
    }
   ],
   "source": [
    "gdTrain = []\n",
    "gdTest = []\n",
    "\n",
    "for l in learningRateValues:\n",
    "    print(f\"Learning Rate Value {l}: \")\n",
    "    kFoldCrossValidationGD(l,scaledData,reshapedY,gdTrain,gdTest)\n",
    "    print()\n"
   ]
  },
  {
   "cell_type": "code",
   "execution_count": 264,
   "id": "5b8aa6d7",
   "metadata": {},
   "outputs": [
    {
     "name": "stdout",
     "output_type": "stream",
     "text": [
      "Learning Rate Value 0.01: \n",
      "The Average Train Recorded Score is 4.6191743653907\n",
      "The Average Test Recorded Score is 5.140297932136469\n"
     ]
    }
   ],
   "source": [
    "# Performance Estimation for best lambda\n",
    "print(f\"Learning Rate Value 0.01: \")\n",
    "kFoldCrossValidationGD(0.01,scaledData,reshapedY)"
   ]
  },
  {
   "cell_type": "markdown",
   "id": "03269566",
   "metadata": {},
   "source": [
    "## Lasso Regression"
   ]
  },
  {
   "cell_type": "markdown",
   "id": "c7406d2f",
   "metadata": {},
   "source": [
    "* This is another regularization method characterized with the following formula\n"
   ]
  },
  {
   "attachments": {
    "ls.png": {
     "image/png": "[encoded data removed]"
    }
   },
   "cell_type": "markdown",
   "id": "77726b6b",
   "metadata": {},
   "source": [
    "![ls.png](attachment:ls.png)"
   ]
  },
  {
   "cell_type": "code",
   "execution_count": 242,
   "id": "444441cd",
   "metadata": {},
   "outputs": [],
   "source": [
    "# we can create a ls function that returns the appropriate coefficients with the paramaters being lambda, learning rate, number of iterations and the dataset\n",
    "\n",
    "def lassoRegression(lam,learningRate,X,y,iterations = 2500):\n",
    "    theta = np.random.randn(X.shape[1], 1)\n",
    "    m = X.shape[0]\n",
    "    \n",
    "    for i in range(iterations):\n",
    "        transpose = np.transpose(X)\n",
    "        termOne = (2/m) * transpose\n",
    "        termSecond = np.dot(X,theta) - y\n",
    "        penalty = lam*(np.sign(theta))\n",
    "        gradient = np.dot(termOne,termSecond) + penalty\n",
    "        theta = theta - learningRate * gradient \n",
    "    return theta"
   ]
  },
  {
   "cell_type": "code",
   "execution_count": 243,
   "id": "d5ca9517",
   "metadata": {},
   "outputs": [],
   "source": [
    "def kFoldCrossValidationLasso(lam,eta,X,y,trainList = [],testList = []):\n",
    "    kf = KFold(n_splits = 10)\n",
    "    \n",
    "    trainError = []\n",
    "    testError = []\n",
    "    \n",
    "    for i, (train_index, test_index) in enumerate(kf.split(X,y)):\n",
    "        X_train, X_test = X[train_index], X[test_index]\n",
    "        y_train, y_test = y[train_index], y[test_index]\n",
    "        \n",
    "        thetas = lassoRegression(lam,eta,X_train,y_train)\n",
    "        \n",
    "        yTrainPredicted = np.dot(X_train,thetas)\n",
    "        yTestPredicted = np.dot(X_test,thetas)\n",
    "        \n",
    "        #now that we have the predicted values we can compute the root mean squared errors using the formula: \n",
    "        # root(mean(y-yPredicted)^2)\n",
    "        \n",
    "        rmseTrain = np.sqrt(np.mean((y_train - yTrainPredicted)**2))\n",
    "        rmseTest = np.sqrt(np.mean((y_test - yTestPredicted)**2))\n",
    "        \n",
    "        trainError.append(rmseTrain)\n",
    "        testError.append(rmseTest)\n",
    "    \n",
    "    avgTrainScore = np.mean(trainError)\n",
    "    avgTestScore = np.mean(testError)\n",
    "    \n",
    "    print(f\"The Average Train Recorded Score is {avgTrainScore}\")\n",
    "    print(f\"The Average Test Recorded Score is {avgTestScore}\")\n",
    "    \n",
    "    trainList.append(avgTrainScore)\n",
    "    testList.append(avgTestScore)"
   ]
  },
  {
   "cell_type": "code",
   "execution_count": 250,
   "id": "974c6e24",
   "metadata": {},
   "outputs": [
    {
     "name": "stdout",
     "output_type": "stream",
     "text": [
      "Lambda Value 1e-05: \n",
      "The Average Train Recorded Score is 4.74796442801407\n",
      "The Average Test Recorded Score is 5.1440959587653685\n",
      "\n",
      "Lambda Value 0.0001: \n",
      "The Average Train Recorded Score is 4.743783465002425\n",
      "The Average Test Recorded Score is 5.4041791147915665\n",
      "\n",
      "Lambda Value 0.001: \n",
      "The Average Train Recorded Score is 4.7654141620666435\n",
      "The Average Test Recorded Score is 5.2464322191199875\n",
      "\n",
      "Lambda Value 0.01: \n",
      "The Average Train Recorded Score is 4.7488318215472045\n",
      "The Average Test Recorded Score is 5.165215561151985\n",
      "\n",
      "Lambda Value 0.1: \n",
      "The Average Train Recorded Score is 4.76385349877634\n",
      "The Average Test Recorded Score is 5.13160583666603\n",
      "\n",
      "Lambda Value 1.0: \n",
      "The Average Train Recorded Score is 5.0549295647094326\n",
      "The Average Test Recorded Score is 5.1528859391921245\n",
      "\n",
      "Lambda Value 10.0: \n",
      "The Average Train Recorded Score is 9.0946878745205\n",
      "The Average Test Recorded Score is 8.678532508521196\n",
      "\n",
      "Lambda Value 100.0: \n",
      "The Average Train Recorded Score is 24.276680992322845\n",
      "The Average Test Recorded Score is 23.569905255507514\n",
      "\n",
      "Lambda Value 1000.0: \n",
      "The Average Train Recorded Score is 24.092008059224305\n",
      "The Average Test Recorded Score is 23.471806180623247\n",
      "\n"
     ]
    }
   ],
   "source": [
    "# now doing kfold cross validation to identify the best lambda \n",
    "\n",
    "lassoLambdaTrain = []\n",
    "lassoLambdaTest = []\n",
    "\n",
    "lassolambdaValues = np.logspace(-5, 3, num=9)\n",
    "\n",
    "for l in lassolambdaValues:\n",
    "    print(f\"Lambda Value {l}: \")\n",
    "    kFoldCrossValidationLasso(l,0.001,scaledData,reshapedY,lassoLambdaTrain,lassoLambdaTest)\n",
    "    print()"
   ]
  },
  {
   "cell_type": "code",
   "execution_count": 251,
   "id": "52c2d0a9",
   "metadata": {},
   "outputs": [
    {
     "name": "stdout",
     "output_type": "stream",
     "text": [
      "Minimum Lambda Train Score Value: 4.743783465002425 - for lambda: 0.0001\n",
      "Minimum Lambda Test Score Value: 5.13160583666603 - for lambda: 0.1\n"
     ]
    }
   ],
   "source": [
    "print(f\"Minimum Lambda Train Score Value: {min(lassoLambdaTrain)} - for lambda: {lassolambdaValues[lassoLambdaTrain.index(min(lassoLambdaTrain))]}\")\n",
    "print(f\"Minimum Lambda Test Score Value: {min(lassoLambdaTest)} - for lambda: {lassolambdaValues[lassoLambdaTest.index(min(lassoLambdaTest))]}\")"
   ]
  },
  {
   "cell_type": "code",
   "execution_count": 252,
   "id": "bcc7e23b",
   "metadata": {},
   "outputs": [
    {
     "name": "stdout",
     "output_type": "stream",
     "text": [
      "Lambda Value: 0.1\n",
      "The Average Train Recorded Score is 4.763833786559007\n",
      "The Average Test Recorded Score is 5.0391726298692365\n"
     ]
    }
   ],
   "source": [
    "# Performance Estimation for best lambda\n",
    "print(f\"Lambda Value: 0.1\")\n",
    "kFoldCrossValidationLasso(0.1,0.001,scaledData,reshapedY)"
   ]
  },
  {
   "cell_type": "markdown",
   "id": "bf173482",
   "metadata": {},
   "source": [
    "## Elastic Net Regression"
   ]
  },
  {
   "cell_type": "markdown",
   "id": "f3f26588",
   "metadata": {},
   "source": [
    "* A regularization algorithm that is a combination of ridge and lasso and has the followig formula:"
   ]
  },
  {
   "attachments": {
    "en.png": {
     "image/png": "[encoded data removed]"
    }
   },
   "cell_type": "markdown",
   "id": "e0b5d9c1",
   "metadata": {},
   "source": [
    "![en.png](attachment:en.png)"
   ]
  },
  {
   "cell_type": "code",
   "execution_count": 254,
   "id": "d40e1b5d",
   "metadata": {},
   "outputs": [],
   "source": [
    "# we can create a ls function that returns the appropriate coefficients with the paramaters being r, lambda, learning rate, number of iterations and the dataset\n",
    "\n",
    "def elasticRegression(lam,learningRate,X,y,iterations = 2500,r=0.5):\n",
    "    theta = np.random.randn(X.shape[1], 1)\n",
    "    m = X.shape[0]\n",
    "    \n",
    "    for i in range(iterations):\n",
    "        transpose = np.transpose(X)\n",
    "        termOne = (2/m) * transpose\n",
    "        termSecond = np.dot(X,theta) - y\n",
    "        penalty = lam*(r*(np.sign(theta)) + (1-r)*theta) \n",
    "        gradient = np.dot(termOne,termSecond) + penalty\n",
    "        theta = theta - learningRate * gradient \n",
    "    return theta"
   ]
  },
  {
   "cell_type": "code",
   "execution_count": 256,
   "id": "c699a03c",
   "metadata": {},
   "outputs": [],
   "source": [
    "def kFoldCrossValidationElastic(lam,eta,X,y,trainList = [],testList = []):\n",
    "    kf = KFold(n_splits = 10)\n",
    "    \n",
    "    trainError = []\n",
    "    testError = []\n",
    "    \n",
    "    for i, (train_index, test_index) in enumerate(kf.split(X,y)):\n",
    "        X_train, X_test = X[train_index], X[test_index]\n",
    "        y_train, y_test = y[train_index], y[test_index]\n",
    "        \n",
    "        thetas = elasticRegression(lam,eta,X_train,y_train)\n",
    "        \n",
    "        yTrainPredicted = np.dot(X_train,thetas)\n",
    "        yTestPredicted = np.dot(X_test,thetas)\n",
    "        \n",
    "        #now that we have the predicted values we can compute the root mean squared errors using the formula: \n",
    "        # root(mean(y-yPredicted)^2)\n",
    "        \n",
    "        rmseTrain = np.sqrt(np.mean((y_train - yTrainPredicted)**2))\n",
    "        rmseTest = np.sqrt(np.mean((y_test - yTestPredicted)**2))\n",
    "        \n",
    "        trainError.append(rmseTrain)\n",
    "        testError.append(rmseTest)\n",
    "    \n",
    "    avgTrainScore = np.mean(trainError)\n",
    "    avgTestScore = np.mean(testError)\n",
    "    \n",
    "    print(f\"The Average Train Recorded Score is {avgTrainScore}\")\n",
    "    print(f\"The Average Test Recorded Score is {avgTestScore}\")\n",
    "    \n",
    "    trainList.append(avgTrainScore)\n",
    "    testList.append(avgTestScore)"
   ]
  },
  {
   "cell_type": "code",
   "execution_count": 261,
   "id": "83f38e19",
   "metadata": {},
   "outputs": [
    {
     "name": "stdout",
     "output_type": "stream",
     "text": [
      "Lambda Value 1e-05: \n",
      "The Average Train Recorded Score is 4.740036713577655\n",
      "The Average Test Recorded Score is 5.168495139040231\n",
      "\n",
      "Lambda Value 0.0001: \n",
      "The Average Train Recorded Score is 4.743430578417537\n",
      "The Average Test Recorded Score is 5.163698392240269\n",
      "\n",
      "Lambda Value 0.001: \n",
      "The Average Train Recorded Score is 4.735585324990197\n",
      "The Average Test Recorded Score is 5.1004307308448515\n",
      "\n",
      "Lambda Value 0.01: \n",
      "The Average Train Recorded Score is 4.759778046500959\n",
      "The Average Test Recorded Score is 5.390565918123906\n",
      "\n",
      "Lambda Value 0.1: \n",
      "The Average Train Recorded Score is 4.8137060034412364\n",
      "The Average Test Recorded Score is 5.241257630196619\n",
      "\n",
      "Lambda Value 1.0: \n",
      "The Average Train Recorded Score is 6.84255857193947\n",
      "The Average Test Recorded Score is 7.977910761686881\n",
      "\n",
      "Lambda Value 10.0: \n",
      "The Average Train Recorded Score is 18.05417550726586\n",
      "The Average Test Recorded Score is 19.10695475905849\n",
      "\n",
      "Lambda Value 100.0: \n",
      "The Average Train Recorded Score is 24.25276279073429\n",
      "The Average Test Recorded Score is 23.521911360569167\n",
      "\n",
      "Lambda Value 1000.0: \n",
      "The Average Train Recorded Score is 24.403615711504074\n",
      "The Average Test Recorded Score is 24.032265542561255\n",
      "\n"
     ]
    }
   ],
   "source": [
    "elasticLambdaTrain = []\n",
    "elasticLambdaTest = []\n",
    "\n",
    "elasticlambdaValues = np.logspace(-7, 3, num=11)\n",
    "\n",
    "for l in lassolambdaValues:\n",
    "    print(f\"Lambda Value {l}: \")\n",
    "    kFoldCrossValidationElastic(l,0.001,scaledData,reshapedY,elasticLambdaTrain,elasticLambdaTest)\n",
    "    print()"
   ]
  },
  {
   "cell_type": "code",
   "execution_count": 262,
   "id": "29c2466f",
   "metadata": {},
   "outputs": [
    {
     "name": "stdout",
     "output_type": "stream",
     "text": [
      "Minimum Lambda Train Score Value: 4.735585324990197 - for lambda: 1e-05\n",
      "Minimum Lambda Test Score Value: 5.1004307308448515 - for lambda: 1e-05\n"
     ]
    }
   ],
   "source": [
    "print(f\"Minimum Lambda Train Score Value: {min(elasticLambdaTrain)} - for lambda: {elasticlambdaValues[elasticLambdaTrain.index(min(elasticLambdaTrain))]}\")\n",
    "print(f\"Minimum Lambda Test Score Value: {min(elasticLambdaTest)} - for lambda: {elasticlambdaValues[elasticLambdaTest.index(min(elasticLambdaTest))]}\")"
   ]
  },
  {
   "cell_type": "code",
   "execution_count": 263,
   "id": "e588d349",
   "metadata": {},
   "outputs": [
    {
     "name": "stdout",
     "output_type": "stream",
     "text": [
      "Lambda Value: 0.00001\n",
      "The Average Train Recorded Score is 4.715447342492509\n",
      "The Average Test Recorded Score is 5.186174551162976\n"
     ]
    }
   ],
   "source": [
    "# Performance Estimation for best lambda\n",
    "print(f\"Lambda Value: 0.00001\")\n",
    "kFoldCrossValidationElastic(0.00001,0.001,scaledData,reshapedY)"
   ]
  },
  {
   "cell_type": "markdown",
   "id": "d6194b83",
   "metadata": {},
   "source": [
    "* Therefore, from all the models that I have generated, I would choose the ridge regression model as it has the least rmse value for the test set. Additionally, it has the least difference between the rmse values for the training and test set showing that it has a sufficient bias-variance trade off. \n",
    "* The next best model is the lasso model with the following parameters: iterations = 2500, lambda = 0.1, learning rate = 0.001"
   ]
  },
  {
   "cell_type": "markdown",
   "id": "5e776cc6",
   "metadata": {},
   "source": [
    "# Part B: Logistic Regression"
   ]
  },
  {
   "cell_type": "markdown",
   "id": "ebafe105",
   "metadata": {},
   "source": [
    "* Explore and import Breast Cancer Wisconsin Dataset"
   ]
  },
  {
   "cell_type": "code",
   "execution_count": 424,
   "id": "3445626e",
   "metadata": {},
   "outputs": [],
   "source": [
    "from sklearn.datasets import load_breast_cancer\n",
    "logisticDataset = load_breast_cancer()"
   ]
  },
  {
   "cell_type": "code",
   "execution_count": 425,
   "id": "a5bfb354",
   "metadata": {},
   "outputs": [
    {
     "name": "stdout",
     "output_type": "stream",
     "text": [
      "The shape of X is (569, 30)\n",
      "The shape of y is (569,)\n"
     ]
    }
   ],
   "source": [
    "X = logisticDataset.data\n",
    "y = logisticDataset.target\n",
    "\n",
    "print(f\"The shape of X is {X.shape}\")\n",
    "print(f\"The shape of y is {y.shape}\")"
   ]
  },
  {
   "cell_type": "markdown",
   "id": "139a32a8",
   "metadata": {},
   "source": [
    "* The idea behind logistic regression is to assist us in classification and determine what is the probability that an instance belongs to a particular class.\n",
    "* The main function that allows us to see values in the range of 0-1 for computing their probability is the logistic function (in this case the signmoid function) with the following equation:"
   ]
  },
  {
   "attachments": {
    "sig.png": {
     "image/png": "[encoded data removed]"
    }
   },
   "cell_type": "markdown",
   "id": "c4685d55",
   "metadata": {},
   "source": [
    "![sig.png](attachment:sig.png)"
   ]
  },
  {
   "cell_type": "markdown",
   "id": "64228272",
   "metadata": {},
   "source": [
    "* Now to in order to ensure that our model yields high performance we have the following cost function which needs to be minimized to them give us the best weights (theta) for our model. The function is also called the logloss function"
   ]
  },
  {
   "attachments": {
    "logliss.png": {
     "image/png": "[encoded data removed]"
    }
   },
   "cell_type": "markdown",
   "id": "3fa67a9c",
   "metadata": {},
   "source": [
    "![logliss.png](attachment:logliss.png)"
   ]
  },
  {
   "cell_type": "code",
   "execution_count": 426,
   "id": "befe4a03",
   "metadata": {},
   "outputs": [
    {
     "name": "stdout",
     "output_type": "stream",
     "text": [
      "[[1.799e+01 1.038e+01 1.228e+02 ... 2.654e-01 4.601e-01 1.189e-01]\n",
      " [2.057e+01 1.777e+01 1.329e+02 ... 1.860e-01 2.750e-01 8.902e-02]\n",
      " [1.969e+01 2.125e+01 1.300e+02 ... 2.430e-01 3.613e-01 8.758e-02]\n",
      " ...\n",
      " [1.660e+01 2.808e+01 1.083e+02 ... 1.418e-01 2.218e-01 7.820e-02]\n",
      " [2.060e+01 2.933e+01 1.401e+02 ... 2.650e-01 4.087e-01 1.240e-01]\n",
      " [7.760e+00 2.454e+01 4.792e+01 ... 0.000e+00 2.871e-01 7.039e-02]]\n",
      "(569, 30)\n"
     ]
    }
   ],
   "source": [
    "# lets inspect our data\n",
    "\n",
    "print(X)\n",
    "print(X.shape)"
   ]
  },
  {
   "cell_type": "code",
   "execution_count": 427,
   "id": "a1462de4",
   "metadata": {},
   "outputs": [
    {
     "data": {
      "text/plain": [
       "(398, 30)"
      ]
     },
     "execution_count": 427,
     "metadata": {},
     "output_type": "execute_result"
    }
   ],
   "source": [
    "# as you can see the features in our data are not uniform. Thus we need to first scale our data using standardization\n",
    "# standardization assists in gradient ascent\n",
    "# y needs to be reshaped to to match with the dimension of the target values\n",
    "\n",
    "\n",
    "y = np.reshape(y,(len(y),1))\n",
    "\n",
    "X_train, X_test, y_train, y_test = train_test_split(X, y, test_size=0.3, random_state=10)\n",
    "scaler = StandardScaler()\n",
    "scaler.fit(X_train)\n",
    "X_train.shape"
   ]
  },
  {
   "cell_type": "code",
   "execution_count": 428,
   "id": "79caa545",
   "metadata": {},
   "outputs": [],
   "source": [
    "scaledX = scaler.transform(X)\n",
    "\n",
    "#adding bias to scaled X\n",
    "numRows = scaledX.shape[0]\n",
    "oneColumn = np.ones((numRows,1))\n",
    "scaledX = np.c_[oneColumn,scaledX]\n",
    "\n",
    "X_train, X_test, y_train, y_test = train_test_split(scaledX, y, test_size=0.3, random_state=10)"
   ]
  },
  {
   "cell_type": "code",
   "execution_count": 429,
   "id": "737003b9",
   "metadata": {},
   "outputs": [
    {
     "name": "stdout",
     "output_type": "stream",
     "text": [
      "(569, 31)\n",
      "(569, 1)\n"
     ]
    }
   ],
   "source": [
    "print(scaledX.shape)\n",
    "print(y.shape)"
   ]
  },
  {
   "cell_type": "code",
   "execution_count": 430,
   "id": "363ea096",
   "metadata": {},
   "outputs": [
    {
     "name": "stdout",
     "output_type": "stream",
     "text": [
      "(398, 31)\n",
      "(398, 1)\n",
      "[[ 1.         -0.52062492 -0.3629934  ... -0.67580898 -0.58109609\n",
      "   0.51919339]\n",
      " [ 1.          1.48227672  0.92918279 ...  1.01115676 -0.54646457\n",
      "  -0.45710183]\n",
      " [ 1.         -0.33854295 -1.26027307 ... -1.27089854 -1.35857381\n",
      "  -1.0249867 ]\n",
      " ...\n",
      " [ 1.         -0.53743249 -1.6271296  ... -0.15948582  0.37819713\n",
      "  -0.46265844]\n",
      " [ 1.         -0.11444207 -0.47281669 ... -1.0271568  -0.91355872\n",
      "  -0.69047918]\n",
      " [ 1.          1.81282552  2.77748544 ...  0.75377045 -0.04084432\n",
      "  -0.11481506]]\n"
     ]
    }
   ],
   "source": [
    "print(X_train.shape)\n",
    "print(y_train.shape)\n",
    "print(X_train)"
   ]
  },
  {
   "cell_type": "markdown",
   "id": "092854a1",
   "metadata": {},
   "source": [
    "* For gradient ascent, we can focus on the following function to find the next theta and subsequently reach the maxima"
   ]
  },
  {
   "attachments": {
    "ga.png": {
     "image/png": "[encoded data removed]"
    }
   },
   "cell_type": "markdown",
   "id": "a61774b5",
   "metadata": {},
   "source": [
    "![ga.png](attachment:ga.png)"
   ]
  },
  {
   "cell_type": "code",
   "execution_count": 431,
   "id": "ac4e9bab",
   "metadata": {},
   "outputs": [],
   "source": [
    "# lets build gradient ascent\n",
    "\n",
    "# first we will need the logsitic function\n",
    "\n",
    "def logistic(z):\n",
    "    value = 1/(1+np.exp(-z))\n",
    "    return value\n",
    "\n",
    "# next we need to build the logloss function as we will then be using it for a plot\n",
    "numpy.seterr(divide = 'ignore') \n",
    "numpy.seterr(invalid = 'ignore') \n",
    "def logLoss(X,y,theta):\n",
    "    m= X.shape[0]\n",
    "    estimatedProbability = logistic(np.dot(X,theta))\n",
    "    termOne = y * np.log(estimatedProbability)\n",
    "    termTwo = (1-y) * np.log(1-estimatedProbability)\n",
    "    logloss = 1/m*(np.sum(termOne+termTwo))\n",
    "    return logloss\n",
    "\n",
    "# now we can build gradient ascent\n",
    "\n",
    "trainLogLikelihoodValues = []\n",
    "testLogLikelihoodValues = []\n",
    "\n",
    "def gradientAscent(X,y,learningRate=0.5,iterations = 5000,threshold=0.5):\n",
    "    theta = np.random.randn(X.shape[1], 1)\n",
    "    m = X.shape[0]\n",
    "    \n",
    "    for i in range(iterations):\n",
    "        if i%100 == 0:\n",
    "            if X.shape[0] > 171:\n",
    "                trainLogLikelihoodValues.append(logLoss(X,y,theta))\n",
    "            else:\n",
    "                testLogLikelihoodValues.append(logLoss(X,y,theta))\n",
    "        transpose = np.transpose(X)\n",
    "        estimatedProbability = logistic(np.dot(X,theta))\n",
    "        termOne = y-estimatedProbability\n",
    "        gradient = (1/m) * np.dot(transpose,termOne)\n",
    "        theta = theta + learningRate * gradient  \n",
    "    return theta"
   ]
  },
  {
   "cell_type": "code",
   "execution_count": 432,
   "id": "034e6e59",
   "metadata": {},
   "outputs": [
    {
     "name": "stdout",
     "output_type": "stream",
     "text": [
      "The coefficient vector for training is [[-1.21597792]\n",
      " [ 0.10971944]\n",
      " [-0.56948529]\n",
      " [ 0.13083077]\n",
      " [-0.19635414]\n",
      " [-0.04279633]\n",
      " [ 2.06763027]\n",
      " [-1.36561881]\n",
      " [-3.11906661]\n",
      " [ 0.78266729]\n",
      " [-0.09168371]\n",
      " [-5.45623288]\n",
      " [ 0.61167165]\n",
      " [-0.65120265]\n",
      " [-2.10640003]\n",
      " [-0.50188471]\n",
      " [ 2.56956211]\n",
      " [-1.04069152]\n",
      " [-1.86542171]\n",
      " [ 1.99081223]\n",
      " [ 3.02137173]\n",
      " [-2.81767484]\n",
      " [-2.57443296]\n",
      " [-0.55201879]\n",
      " [-1.31596223]\n",
      " [ 0.03665115]\n",
      " [ 0.29989269]\n",
      " [-1.80342615]\n",
      " [-0.94434096]\n",
      " [-1.6068173 ]\n",
      " [-2.65030525]]\n"
     ]
    }
   ],
   "source": [
    "# now we can start applying gradient ascent to get our coefficients \n",
    "\n",
    "trainThetas = gradientAscent(X_train,y_train)\n",
    "print(f\"The coefficient vector for training is {trainThetas}\")\n"
   ]
  },
  {
   "cell_type": "code",
   "execution_count": 433,
   "id": "c3fa8dc8",
   "metadata": {},
   "outputs": [
    {
     "name": "stdout",
     "output_type": "stream",
     "text": [
      "The coefficient vector for training is [[ 1.14668942]\n",
      " [-1.74986394]\n",
      " [-3.66337926]\n",
      " [-2.25805252]\n",
      " [-2.35341648]\n",
      " [-1.20800786]\n",
      " [-0.92514734]\n",
      " [-1.1755516 ]\n",
      " [-1.60895096]\n",
      " [ 0.8281416 ]\n",
      " [ 1.01202026]\n",
      " [-2.45304636]\n",
      " [ 2.04464644]\n",
      " [-1.67309042]\n",
      " [-2.66225511]\n",
      " [-0.8041572 ]\n",
      " [ 2.31042041]\n",
      " [-0.34493883]\n",
      " [-0.41983895]\n",
      " [-0.75710875]\n",
      " [ 1.08551069]\n",
      " [-1.97894697]\n",
      " [-0.89928436]\n",
      " [-2.54248031]\n",
      " [-1.56664225]\n",
      " [-2.04762638]\n",
      " [-0.44191527]\n",
      " [-1.65617524]\n",
      " [ 0.08270433]\n",
      " [-2.68092211]\n",
      " [-0.17290547]]\n"
     ]
    }
   ],
   "source": [
    "# now we can start applying gradient ascent to get our coefficients \n",
    "\n",
    "testThetas = gradientAscent(X_test,y_test)\n",
    "print(f\"The coefficient vector for training is {testThetas}\")"
   ]
  },
  {
   "cell_type": "markdown",
   "id": "c0cbcbe5",
   "metadata": {},
   "source": [
    "## Test Dataset Metrics"
   ]
  },
  {
   "cell_type": "markdown",
   "id": "d44adda8",
   "metadata": {},
   "source": [
    "* We need to find Precision Recall F1 Score and Confusion Matrix\n",
    "* For this we need to compare the predicted y values (by first classifying them into either 0 (negative) or 1 (positive) to the actual y values\n",
    "* Precision = true positive / (true positive + false positive)\n",
    "* Recall = true positive / (true positive + false negative)\n",
    "* F1 = 2*(precision*recall) / (precision + recall)\n"
   ]
  },
  {
   "cell_type": "code",
   "execution_count": 434,
   "id": "4b5c8346",
   "metadata": {},
   "outputs": [],
   "source": [
    "# lets find predicted probabilites for the test dataset\n",
    "\n",
    "predictedProbabilityTest = logistic(np.dot(X_test,testThetas))"
   ]
  },
  {
   "cell_type": "code",
   "execution_count": 435,
   "id": "45b2adca",
   "metadata": {},
   "outputs": [
    {
     "name": "stdout",
     "output_type": "stream",
     "text": [
      "[[4.39803311e-05]\n",
      " [1.00000000e+00]\n",
      " [9.99999517e-01]\n",
      " [1.21900252e-12]\n",
      " [9.99999913e-01]\n",
      " [1.00000000e+00]\n",
      " [1.00000000e+00]\n",
      " [9.99999989e-01]\n",
      " [7.78257271e-10]\n",
      " [2.67326769e-07]\n",
      " [9.99999889e-01]\n",
      " [1.00000000e+00]\n",
      " [9.17186356e-04]\n",
      " [9.99999998e-01]\n",
      " [3.78630847e-05]\n",
      " [1.04486017e-05]\n",
      " [9.99999779e-01]\n",
      " [9.99769025e-01]\n",
      " [9.99999997e-01]\n",
      " [9.95196970e-01]\n",
      " [5.95778301e-06]\n",
      " [2.19435728e-04]\n",
      " [1.00000000e+00]\n",
      " [9.99896589e-01]\n",
      " [2.03772515e-12]\n",
      " [2.96084952e-13]\n",
      " [9.91083688e-01]\n",
      " [3.73188054e-13]\n",
      " [1.00000000e+00]\n",
      " [9.99874162e-01]\n",
      " [9.99999998e-01]\n",
      " [9.99999842e-01]\n",
      " [3.25892871e-19]\n",
      " [1.00000000e+00]\n",
      " [9.99751638e-01]\n",
      " [1.00000000e+00]\n",
      " [9.99999998e-01]\n",
      " [1.00000000e+00]\n",
      " [9.99999698e-01]\n",
      " [9.99999185e-01]\n",
      " [9.99999502e-01]\n",
      " [1.00000000e+00]\n",
      " [1.00000000e+00]\n",
      " [5.70876237e-04]\n",
      " [9.99999007e-01]\n",
      " [4.08362211e-19]\n",
      " [1.58100477e-03]\n",
      " [2.55030833e-03]\n",
      " [2.42672160e-03]\n",
      " [9.98602103e-01]\n",
      " [9.99316752e-01]\n",
      " [9.99725516e-01]\n",
      " [8.87279059e-07]\n",
      " [9.99999983e-01]\n",
      " [9.99997929e-01]\n",
      " [3.05039655e-30]\n",
      " [3.20758468e-04]\n",
      " [9.99999976e-01]\n",
      " [9.99864524e-01]\n",
      " [1.00000000e+00]\n",
      " [8.27458996e-24]\n",
      " [9.99999473e-01]\n",
      " [1.35861654e-06]\n",
      " [1.24688028e-02]\n",
      " [1.00000000e+00]\n",
      " [9.98973611e-01]\n",
      " [9.99999167e-01]\n",
      " [1.00000000e+00]\n",
      " [2.17519518e-02]\n",
      " [2.78729610e-03]\n",
      " [1.00000000e+00]\n",
      " [1.00000000e+00]\n",
      " [9.99999917e-01]\n",
      " [1.00000000e+00]\n",
      " [9.99999998e-01]\n",
      " [1.02282062e-07]\n",
      " [1.00000000e+00]\n",
      " [9.99999991e-01]\n",
      " [2.42545055e-06]\n",
      " [1.78358289e-03]\n",
      " [1.00000000e+00]\n",
      " [9.99998002e-01]\n",
      " [1.45405667e-29]\n",
      " [9.99999319e-01]\n",
      " [1.00000000e+00]\n",
      " [9.99999999e-01]\n",
      " [9.99923551e-01]\n",
      " [9.99187804e-01]\n",
      " [1.00000000e+00]\n",
      " [9.82606575e-01]\n",
      " [9.99999983e-01]\n",
      " [9.99999982e-01]\n",
      " [2.78172293e-04]\n",
      " [9.87636047e-01]\n",
      " [1.00000000e+00]\n",
      " [9.99999998e-01]\n",
      " [8.36704889e-11]\n",
      " [1.00000000e+00]\n",
      " [8.84559838e-19]\n",
      " [9.79045348e-01]\n",
      " [2.89801319e-10]\n",
      " [1.42403819e-02]\n",
      " [1.00000000e+00]\n",
      " [1.00000000e+00]\n",
      " [1.00000000e+00]\n",
      " [1.00000000e+00]\n",
      " [1.82303826e-10]\n",
      " [4.26556831e-29]\n",
      " [1.00000000e+00]\n",
      " [9.99999987e-01]\n",
      " [9.99999998e-01]\n",
      " [9.99999996e-01]\n",
      " [8.56276942e-24]\n",
      " [4.99690159e-07]\n",
      " [9.65970881e-27]\n",
      " [9.99999989e-01]\n",
      " [2.05394413e-02]\n",
      " [3.03244899e-10]\n",
      " [3.72235777e-06]\n",
      " [9.99999884e-01]\n",
      " [9.96352042e-01]\n",
      " [6.13828367e-12]\n",
      " [9.99999582e-01]\n",
      " [7.56798789e-24]\n",
      " [1.00000000e+00]\n",
      " [9.99990702e-01]\n",
      " [1.60243075e-13]\n",
      " [4.26446338e-09]\n",
      " [9.99999991e-01]\n",
      " [9.99999999e-01]\n",
      " [9.99998214e-01]\n",
      " [1.00000000e+00]\n",
      " [4.97479413e-02]\n",
      " [1.00000000e+00]\n",
      " [9.99999999e-01]\n",
      " [4.95947859e-11]\n",
      " [9.38286695e-01]\n",
      " [2.36658094e-13]\n",
      " [9.99703728e-01]\n",
      " [7.54714658e-12]\n",
      " [9.99971516e-01]\n",
      " [1.00000000e+00]\n",
      " [1.02317855e-20]\n",
      " [1.00000000e+00]\n",
      " [1.00000000e+00]\n",
      " [7.29092535e-17]\n",
      " [9.99999996e-01]\n",
      " [9.99996138e-01]\n",
      " [9.99951318e-01]\n",
      " [1.00000000e+00]\n",
      " [4.14983495e-10]\n",
      " [1.00000000e+00]\n",
      " [2.74798534e-15]\n",
      " [9.96312092e-01]\n",
      " [1.00000000e+00]\n",
      " [9.99998539e-01]\n",
      " [1.41307066e-14]\n",
      " [1.00000000e+00]\n",
      " [9.99999997e-01]\n",
      " [1.00027129e-02]\n",
      " [9.77830309e-01]\n",
      " [9.99999995e-01]\n",
      " [9.99999994e-01]\n",
      " [1.00000000e+00]\n",
      " [9.99999932e-01]\n",
      " [3.70941779e-08]\n",
      " [7.84708405e-32]\n",
      " [9.99993842e-01]\n",
      " [1.00000000e+00]\n",
      " [9.99992758e-01]\n",
      " [9.99918933e-01]]\n",
      "(171, 1)\n"
     ]
    }
   ],
   "source": [
    "print(predictedProbabilityTest)\n",
    "print(predictedProbabilityTest.shape)"
   ]
  },
  {
   "cell_type": "code",
   "execution_count": 436,
   "id": "2ebd315f",
   "metadata": {},
   "outputs": [
    {
     "name": "stdout",
     "output_type": "stream",
     "text": [
      "[[0.]\n",
      " [1.]\n",
      " [1.]\n",
      " [0.]\n",
      " [1.]\n",
      " [1.]\n",
      " [1.]\n",
      " [1.]\n",
      " [0.]\n",
      " [0.]\n",
      " [1.]\n",
      " [1.]\n",
      " [0.]\n",
      " [1.]\n",
      " [0.]\n",
      " [0.]\n",
      " [1.]\n",
      " [1.]\n",
      " [1.]\n",
      " [1.]\n",
      " [0.]\n",
      " [0.]\n",
      " [1.]\n",
      " [1.]\n",
      " [0.]\n",
      " [0.]\n",
      " [1.]\n",
      " [0.]\n",
      " [1.]\n",
      " [1.]\n",
      " [1.]\n",
      " [1.]\n",
      " [0.]\n",
      " [1.]\n",
      " [1.]\n",
      " [1.]\n",
      " [1.]\n",
      " [1.]\n",
      " [1.]\n",
      " [1.]\n",
      " [1.]\n",
      " [1.]\n",
      " [1.]\n",
      " [0.]\n",
      " [1.]\n",
      " [0.]\n",
      " [0.]\n",
      " [0.]\n",
      " [0.]\n",
      " [1.]\n",
      " [1.]\n",
      " [1.]\n",
      " [0.]\n",
      " [1.]\n",
      " [1.]\n",
      " [0.]\n",
      " [0.]\n",
      " [1.]\n",
      " [1.]\n",
      " [1.]\n",
      " [0.]\n",
      " [1.]\n",
      " [0.]\n",
      " [0.]\n",
      " [1.]\n",
      " [1.]\n",
      " [1.]\n",
      " [1.]\n",
      " [0.]\n",
      " [0.]\n",
      " [1.]\n",
      " [1.]\n",
      " [1.]\n",
      " [1.]\n",
      " [1.]\n",
      " [0.]\n",
      " [1.]\n",
      " [1.]\n",
      " [0.]\n",
      " [0.]\n",
      " [1.]\n",
      " [1.]\n",
      " [0.]\n",
      " [1.]\n",
      " [1.]\n",
      " [1.]\n",
      " [1.]\n",
      " [1.]\n",
      " [1.]\n",
      " [1.]\n",
      " [1.]\n",
      " [1.]\n",
      " [0.]\n",
      " [1.]\n",
      " [1.]\n",
      " [1.]\n",
      " [0.]\n",
      " [1.]\n",
      " [0.]\n",
      " [1.]\n",
      " [0.]\n",
      " [0.]\n",
      " [1.]\n",
      " [1.]\n",
      " [1.]\n",
      " [1.]\n",
      " [0.]\n",
      " [0.]\n",
      " [1.]\n",
      " [1.]\n",
      " [1.]\n",
      " [1.]\n",
      " [0.]\n",
      " [0.]\n",
      " [0.]\n",
      " [1.]\n",
      " [0.]\n",
      " [0.]\n",
      " [0.]\n",
      " [1.]\n",
      " [1.]\n",
      " [0.]\n",
      " [1.]\n",
      " [0.]\n",
      " [1.]\n",
      " [1.]\n",
      " [0.]\n",
      " [0.]\n",
      " [1.]\n",
      " [1.]\n",
      " [1.]\n",
      " [1.]\n",
      " [0.]\n",
      " [1.]\n",
      " [1.]\n",
      " [0.]\n",
      " [1.]\n",
      " [0.]\n",
      " [1.]\n",
      " [0.]\n",
      " [1.]\n",
      " [1.]\n",
      " [0.]\n",
      " [1.]\n",
      " [1.]\n",
      " [0.]\n",
      " [1.]\n",
      " [1.]\n",
      " [1.]\n",
      " [1.]\n",
      " [0.]\n",
      " [1.]\n",
      " [0.]\n",
      " [1.]\n",
      " [1.]\n",
      " [1.]\n",
      " [0.]\n",
      " [1.]\n",
      " [1.]\n",
      " [0.]\n",
      " [1.]\n",
      " [1.]\n",
      " [1.]\n",
      " [1.]\n",
      " [1.]\n",
      " [0.]\n",
      " [0.]\n",
      " [1.]\n",
      " [1.]\n",
      " [1.]\n",
      " [1.]]\n",
      "(171, 1)\n"
     ]
    }
   ],
   "source": [
    "# now we need to assign probablities as 0 or 1 on the basis that if p > 0.5 p = 1 else = 0\n",
    "\n",
    "for i in range(predictedProbabilityTest.size):\n",
    "    if predictedProbabilityTest[i] > 0.5:\n",
    "        predictedProbabilityTest[i] = 1\n",
    "    else:\n",
    "        predictedProbabilityTest[i] = 0\n",
    "\n",
    "print(predictedProbabilityTest)\n",
    "print(predictedProbabilityTest.shape)"
   ]
  },
  {
   "cell_type": "code",
   "execution_count": 437,
   "id": "4eff90de",
   "metadata": {},
   "outputs": [
    {
     "name": "stdout",
     "output_type": "stream",
     "text": [
      "Y: (171, 1)\n",
      "X: (171, 31)\n"
     ]
    }
   ],
   "source": [
    "print(f\"Y: {y_test.shape}\")\n",
    "print(f\"X: {X_test.shape}\")"
   ]
  },
  {
   "cell_type": "code",
   "execution_count": 438,
   "id": "4bf33dd2",
   "metadata": {},
   "outputs": [
    {
     "name": "stdout",
     "output_type": "stream",
     "text": [
      "The metrics are as follows: \n",
      "Precision: 1.0\n",
      "Recall: 1.0\n",
      "F1: 1.0\n"
     ]
    }
   ],
   "source": [
    "#intializing metrics \n",
    "\n",
    "truePositive = 0\n",
    "trueNegative = 0\n",
    "falsePositive = 0\n",
    "falseNegative = 0\n",
    "\n",
    "for i in range(y_test.size):\n",
    "    if y_test[i] == 0 and predictedProbabilityTest[i] == 0:\n",
    "        trueNegative += 1\n",
    "    elif y_test[i] == 1 and predictedProbabilityTest[i] == 1:\n",
    "        truePositive += 1\n",
    "    elif y_test[i] == 0 and predictedProbabilityTest[i] == 1:\n",
    "        falsePositive += 1\n",
    "    else:\n",
    "        falsNegative += 1\n",
    "        \n",
    "precision = truePositive / (truePositive + falsePositive)\n",
    "recall = truePositive / (truePositive + falseNegative)\n",
    "f1 = 2 * (precision*recall)/(precision+recall)    \n",
    "\n",
    "\n",
    "print(\"The metrics are as follows: \")\n",
    "print(f\"Precision: {precision}\")\n",
    "print(f\"Recall: {recall}\")\n",
    "print(f\"F1: {f1}\")"
   ]
  },
  {
   "cell_type": "code",
   "execution_count": 439,
   "id": "cf632cc4",
   "metadata": {},
   "outputs": [
    {
     "name": "stdout",
     "output_type": "stream",
     "text": [
      "[[ 59   0]\n",
      " [  0 112]]\n"
     ]
    }
   ],
   "source": [
    "# for the confusion matrix we can use the sklearn library \n",
    "\n",
    "from sklearn import metrics\n",
    "\n",
    "cMatrix = metrics.confusion_matrix(y_test, predictedProbabilityTest)\n",
    "print(cMatrix)\n",
    "\n"
   ]
  },
  {
   "cell_type": "code",
   "execution_count": 440,
   "id": "a11e7549",
   "metadata": {},
   "outputs": [
    {
     "data": {
      "image/png": "[encoded data removed]",
      "text/plain": [
       "<Figure size 640x480 with 2 Axes>"
      ]
     },
     "metadata": {},
     "output_type": "display_data"
    }
   ],
   "source": [
    "# we can also display the confusion matrix as a plot\n",
    "import matplotlib.pyplot as plt\n",
    "cMatrixPlot = metrics.ConfusionMatrixDisplay(confusion_matrix=cMatrix)\n",
    "cMatrixPlot.plot()\n",
    "plt.show()"
   ]
  },
  {
   "cell_type": "markdown",
   "id": "3ff4d624",
   "metadata": {},
   "source": [
    "## Plotting Loglikelihood Values"
   ]
  },
  {
   "cell_type": "markdown",
   "id": "542cac68",
   "metadata": {},
   "source": [
    "* In the follwing graph there will be the plots for the log likilehood values of the training and the test data.\n"
   ]
  },
  {
   "cell_type": "code",
   "execution_count": 444,
   "id": "047ec62f",
   "metadata": {},
   "outputs": [
    {
     "data": {
      "image/png": "[encoded data removed]",
      "text/plain": [
       "<Figure size 640x480 with 1 Axes>"
      ]
     },
     "metadata": {},
     "output_type": "display_data"
    }
   ],
   "source": [
    "# for training data\n",
    "\n",
    "\n",
    "plt.plot(np.array(range(0,5000,100)),trainLogLikelihoodValues)\n",
    "plt.title(\"The value of the logloss function on every 100th Iteration - Training \")\n",
    "plt.xlabel(\"Iteration Number\")\n",
    "plt.ylabel(\"Objective Value\")\n",
    "plt.show()"
   ]
  },
  {
   "cell_type": "code",
   "execution_count": 445,
   "id": "9ed1bcae",
   "metadata": {},
   "outputs": [
    {
     "data": {
      "image/png": "[encoded data removed]",
      "text/plain": [
       "<Figure size 640x480 with 1 Axes>"
      ]
     },
     "metadata": {},
     "output_type": "display_data"
    }
   ],
   "source": [
    "# for testing data\n",
    "\n",
    "\n",
    "plt.plot(np.array(range(0,5000,100)),testLogLikelihoodValues)\n",
    "plt.title(\"The value of the logloss function on every 100th Iteration - Testing \")\n",
    "plt.xlabel(\"Iteration Number\")\n",
    "plt.ylabel(\"Objective Value\")\n",
    "plt.show()"
   ]
  },
  {
   "cell_type": "code",
   "execution_count": 446,
   "id": "f7e3cfc5",
   "metadata": {},
   "outputs": [
    {
     "data": {
      "text/plain": [
       "{'default': 24.037054461465683,\n",
       " 'Theta 1': 8.158666509761948,\n",
       " 'Theta 2': 6.222342469831017,\n",
       " 'Theta 3': 27.59901090877667}"
      ]
     },
     "execution_count": 446,
     "metadata": {},
     "output_type": "execute_result"
    }
   ],
   "source": [
    "# i will be experimenting with the following parameters:\n",
    "# iteration values: 1000, 7500, 10000, \n",
    "# Learning Rate: 0.01, 0.001, 0.75\n",
    "\n",
    "errorScores = {}\n",
    "\n",
    "# first the default one\n",
    "\n",
    "yPredicted = np.dot(X_test,testThetas)\n",
    "\n",
    "rmse1 = np.sqrt(np.mean((yPredicted-y_test)**2))\n",
    "\n",
    "errorScores[\"default\"] = rmse1\n",
    "\n",
    "\n",
    "theta1 = gradientAscent(X_test,y_test,0.01, 1000)\n",
    "theta2 = gradientAscent(X_test,y_test,0.001, 7500)\n",
    "theta3 = gradientAscent(X_test,y_test,0.75, 10000)\n",
    "\n",
    "i = 1\n",
    "for theta in [theta1,theta2,theta3]:\n",
    "    yPredicted = np.dot(X_test,theta)\n",
    "    rmse = np.sqrt(np.mean((yPredicted-y_test)**2))\n",
    "    errorScores[f\"Theta {i}\"] = rmse\n",
    "    i+=1\n",
    "\n",
    "errorScores"
   ]
  },
  {
   "cell_type": "markdown",
   "id": "d0630a57",
   "metadata": {},
   "source": [
    "* As we can see Theta 2 gave the least error, therfore the best parameters are learning rate = 0.001, iterations = 7500"
   ]
  },
  {
   "cell_type": "code",
   "execution_count": null,
   "id": "b8f3a50c",
   "metadata": {},
   "outputs": [],
   "source": []
  }
 ],
 "metadata": {
  "kernelspec": {
   "display_name": "Python 3 (ipykernel)",
   "language": "python",
   "name": "python3"
  },
  "language_info": {
   "codemirror_mode": {
    "name": "ipython",
    "version": 3
   },
   "file_extension": ".py",
   "mimetype": "text/x-python",
   "name": "python",
   "nbconvert_exporter": "python",
   "pygments_lexer": "ipython3",
   "version": "3.9.16"
  }
 },
 "nbformat": 4,
 "nbformat_minor": 5
}
