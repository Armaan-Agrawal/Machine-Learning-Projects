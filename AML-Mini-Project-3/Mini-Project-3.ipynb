{
 "cells": [
  {
   "cell_type": "markdown",
   "id": "358dd112",
   "metadata": {},
   "source": [
    "# Decision Tree \n",
    "\n",
    "* The basic concept of the decision tree is to calculate the best thresholds and use them recursively to split data and get the predicted classes."
   ]
  },
  {
   "cell_type": "markdown",
   "id": "c0dc0fba",
   "metadata": {},
   "source": [
    "* We will be using the following formula for entrophy:"
   ]
  },
  {
   "attachments": {
    "ent.png": {
     "image/png": "[encoded data removed]"
    }
   },
   "cell_type": "markdown",
   "id": "36096200",
   "metadata": {},
   "source": [
    "![ent.png](attachment:ent.png)"
   ]
  },
  {
   "cell_type": "code",
   "execution_count": 29,
   "id": "1ace795a",
   "metadata": {},
   "outputs": [],
   "source": [
    "# coding the entrophy formula\n",
    "\n",
    "def entrophy(y):\n",
    "    # bin count gives number of occurences of the values\n",
    "    valueCount  = np.bincount(y)\n",
    "    probabilityOfValue = valueCount/len(y)\n",
    "    probWithLog = [prob * np.log2(prob) for prob in probabilityOfValue if prob > 0]\n",
    "    \n",
    "    return -np.sum(probWithLog)"
   ]
  },
  {
   "cell_type": "code",
   "execution_count": 64,
   "id": "60678526",
   "metadata": {},
   "outputs": [],
   "source": [
    "# for calculating average values for thresholds\n",
    "\n",
    "def averageValues(array):\n",
    "    output = np.zeros(len(array))\n",
    "    for i in range(len(array)-1):\n",
    "        output[i] = (array[i] + array[i+1])/2\n",
    "    return output"
   ]
  },
  {
   "cell_type": "code",
   "execution_count": 65,
   "id": "61a5a72a",
   "metadata": {},
   "outputs": [],
   "source": [
    "def mostOccuredElement(array):\n",
    "    uniqueValues = np.unique(array)\n",
    "    maxOccurence = 0\n",
    "    maxElement = y[0]\n",
    "    \n",
    "    for i in uniqueValues:\n",
    "        maxi = np.sum(y == i)\n",
    "        if maxi > maxOccurence:\n",
    "            maxOccurence = maxi\n",
    "            maxElement = i\n",
    "    return maxElement\n",
    "    "
   ]
  },
  {
   "cell_type": "code",
   "execution_count": 66,
   "id": "e6f7bf84",
   "metadata": {},
   "outputs": [],
   "source": [
    "# making the Node Class\n",
    "\n",
    "class Node:\n",
    "    def __init__(self, value = None, feature = None, threshold = None, right = None, left = None):\n",
    "        self.feature = feature\n",
    "        self.value = value\n",
    "        self.threshold = threshold\n",
    "        self.left = left\n",
    "        self.right = right\n"
   ]
  },
  {
   "cell_type": "markdown",
   "id": "56edae6d",
   "metadata": {},
   "source": [
    "* We will be using the following formula for information gain:"
   ]
  },
  {
   "attachments": {
    "ig.png": {
     "image/png": "[encoded data removed]"
    }
   },
   "cell_type": "markdown",
   "id": "f5ada489",
   "metadata": {},
   "source": [
    "![ig.png](attachment:ig.png)"
   ]
  },
  {
   "cell_type": "code",
   "execution_count": 67,
   "id": "f62a916b",
   "metadata": {},
   "outputs": [],
   "source": [
    "# making the decision tree class\n",
    "class DecisionTree:\n",
    "    \n",
    "    def __init__(self, minSampleSplit = 5):\n",
    "        self.minSampleSplit = minSampleSplit\n",
    "        self.root = None\n",
    "        \n",
    "    def _infoGain_(self, parent, left, right):\n",
    "        leftDistribution = len(left)/len(parent)\n",
    "        rightDistribution = len(right)/len(parent)\n",
    "        \n",
    "        childEntrophy = (leftDistribution * entrophy(left)) + (rightDistribution * entrophy(right))\n",
    "        parentEntrophy = entrophy(parent)\n",
    "        \n",
    "        return parentEntrophy - childEntrophy\n",
    "\n",
    "    def fit(self, X, y):\n",
    "        # recursively build the tree using a helper function\n",
    "        self.root = self._build_(X,y)\n",
    "    \n",
    "    def _bestSplit_(self, X, y):\n",
    "        numFeatures = X.shape[1]\n",
    "        bestGain = -1\n",
    "        bestFeature = None\n",
    "        bestThreshold = None\n",
    "        \n",
    "        for feature in range(numFeatures):\n",
    "            XColumn = X[:,feature]\n",
    "            uniqueValues = np.unique(X[:,feature])\n",
    "            thresholds = averageValues(uniqueValues)\n",
    "            for threshold in thresholds:\n",
    "                leftArray = y[XColumn <= threshold]\n",
    "                rightArray = y[XColumn > threshold]\n",
    "                \n",
    "                if len(leftArray) > 0 and len(rightArray) > 0:\n",
    "                    gain = self._infoGain_(y,leftArray,rightArray)\n",
    "                    if gain > bestGain:\n",
    "                        bestFeature = feature\n",
    "                        bestThreshold = threshold\n",
    "                        bestGain = gain\n",
    "        \n",
    "        return [bestGain, bestFeature, bestThreshold]\n",
    "                                \n",
    "    \n",
    "    def _build_(self, X, y):\n",
    "        # stopping criteria: node should not split if number of items is less than minimum sample\n",
    "        numSamples = X.shape[0]\n",
    "        \n",
    "        if numSamples <= self.minSampleSplit:\n",
    "            leafValue = mostOccuredElement(y)\n",
    "            return Node(value =leafValue)\n",
    "        \n",
    "        bestGain, bestFeature, bestThreshold = self._bestSplit_(X,y)\n",
    "        \n",
    "        # if gain is 0, there is only one class and hence it is a leaf node\n",
    "        if bestGain > 0:\n",
    "            xCol = X[:,bestFeature]\n",
    "            xLeft, xRight = X[xCol <= bestThreshold, :], X[xCol > bestThreshold, :]\n",
    "            yLeft, yRight = y[xCol <= bestThreshold], y[xCol > bestThreshold]\n",
    "\n",
    "            leftChild = self._build_(xLeft,yLeft)\n",
    "            rightChild = self._build_(xRight,yRight)\n",
    "            return Node(feature = bestFeature, threshold = bestThreshold, right = rightChild, left = leftChild)\n",
    "        \n",
    "        return Node(value = mostOccuredElement(y))\n",
    "    \n",
    "    #helper function to traverse tree using a single element\n",
    "    def _traverse_(self, x, node):\n",
    "        #check if node is leaf\n",
    "        if node.value is not None:\n",
    "            return node.value\n",
    "        \n",
    "        if x[node.feature] <= node.threshold:\n",
    "            return self._traverse_(x, node.left)\n",
    "        return self._traverse_(x, node.right)\n",
    "    \n",
    "    def predict(self, X):\n",
    "        return np.array([self._traverse_(x,self.root) for x in X])"
   ]
  },
  {
   "cell_type": "code",
   "execution_count": 146,
   "id": "135c47a8",
   "metadata": {},
   "outputs": [],
   "source": [
    "#function for testing and returning accuracy\n",
    "import matplotlib.pyplot as plt\n",
    "from sklearn import metrics\n",
    "\n",
    "def testing(yPredicted,y):\n",
    "    \n",
    "    correct = 0\n",
    "    \n",
    "    for i in range(y.size):\n",
    "        if y[i] == yPredicted[i]:\n",
    "            correct += 1\n",
    "    accuracy = (correct / y.size) * 100    \n",
    "    cMatrix = metrics.confusion_matrix(y, yPredicted)\n",
    "    cMatrixPlot = metrics.ConfusionMatrixDisplay(confusion_matrix=cMatrix)\n",
    "    return [accuracy, cMatrix, cMatrixPlot]\n"
   ]
  },
  {
   "cell_type": "code",
   "execution_count": 157,
   "id": "46b81abe",
   "metadata": {},
   "outputs": [],
   "source": [
    "from sklearn.model_selection import KFold\n",
    "def kFoldCrossValidation(X,y, percent, scoreMap):\n",
    "    kf = KFold(n_splits = 10)\n",
    "    \n",
    "    minElements = np.ceil((percent*(X.shape[0]))/100).astype(int)\n",
    "    \n",
    "    # to store accuracies in an array\n",
    "    accuracies = []\n",
    "    \n",
    "    for i, (train_index, test_index) in enumerate(kf.split(X,y)):\n",
    "        X_train, X_test = X[train_index], X[test_index]\n",
    "        y_train, y_test = y[train_index], y[test_index]\n",
    "    \n",
    "        model = DecisionTree(minSampleSplit = minElements)\n",
    "        model.fit(X_train,y_train)\n",
    "        predictions = model.predict(X_test)\n",
    "        \n",
    "        accuracy = testing(predictions,y_test)[0]\n",
    "        accuracies.append(accuracy)\n",
    "        \n",
    "        \n",
    "    avgAccuracy = np.mean(accuracies)\n",
    "    \n",
    "    standardDeviation = np.std(accuracies)\n",
    "    \n",
    "    #print(f\"Average Accuracy: {round(avgAccuracy,2)}%\")\n",
    "    #print(f\"Standard Deviation of Accuracies: {round(standardDeviation/100,2)}\")\n",
    "    \n",
    "    scoreMap[percent] = {\"Average Accuracy\": round(avgAccuracy,2), \"Standard Deviation\": round(standardDeviation/100,2) }"
   ]
  },
  {
   "cell_type": "code",
   "execution_count": 148,
   "id": "680494cd",
   "metadata": {},
   "outputs": [],
   "source": [
    "#Loading Iris Dataset\n",
    "from sklearn.datasets import load_iris\n",
    "import numpy as np"
   ]
  },
  {
   "cell_type": "code",
   "execution_count": 149,
   "id": "77911c1d",
   "metadata": {},
   "outputs": [],
   "source": [
    "mainData = load_iris()\n",
    "X = mainData['data']\n",
    "y = mainData['target']"
   ]
  },
  {
   "cell_type": "code",
   "execution_count": 150,
   "id": "543b6f42",
   "metadata": {},
   "outputs": [
    {
     "data": {
      "text/plain": [
       "(150, 4)"
      ]
     },
     "execution_count": 150,
     "metadata": {},
     "output_type": "execute_result"
    }
   ],
   "source": [
    "X.shape"
   ]
  },
  {
   "cell_type": "code",
   "execution_count": 151,
   "id": "1551ed55",
   "metadata": {
    "scrolled": true
   },
   "outputs": [
    {
     "data": {
      "text/plain": [
       "(150,)"
      ]
     },
     "execution_count": 151,
     "metadata": {},
     "output_type": "execute_result"
    }
   ],
   "source": [
    "y.shape"
   ]
  },
  {
   "cell_type": "code",
   "execution_count": 152,
   "id": "bd92650e",
   "metadata": {},
   "outputs": [
    {
     "data": {
      "text/plain": [
       "array([0, 1, 2])"
      ]
     },
     "execution_count": 152,
     "metadata": {},
     "output_type": "execute_result"
    }
   ],
   "source": [
    "np.unique(y)"
   ]
  },
  {
   "cell_type": "code",
   "execution_count": 160,
   "id": "da128063",
   "metadata": {},
   "outputs": [
    {
     "name": "stdout",
     "output_type": "stream",
     "text": [
      "This is the following Score: \n",
      "5: {'Average Accuracy': 90.67, 'Standard Deviation': 0.13}\n",
      "10: {'Average Accuracy': 90.67, 'Standard Deviation': 0.13}\n",
      "15: {'Average Accuracy': 90.67, 'Standard Deviation': 0.13}\n",
      "20: {'Average Accuracy': 90.67, 'Standard Deviation': 0.13}\n"
     ]
    }
   ],
   "source": [
    "# testing for different minimum number of instances for iris\n",
    "irisMin = [5,10,15,20]\n",
    "irisScore = {}\n",
    "\n",
    "for i in irisMin:\n",
    "    kFoldCrossValidation(X,y,i,irisScore)\n",
    "\n",
    "print(\"This is the following Score: \")\n",
    "for k,v in irisScore.items():\n",
    "    print(f\"{k}: {v}\")\n"
   ]
  },
  {
   "cell_type": "code",
   "execution_count": 161,
   "id": "0fc94cfc",
   "metadata": {},
   "outputs": [],
   "source": [
    "# spambase data exists in local drive in Downloads\n",
    "import pandas as pd\n",
    "df = pd.read_csv('spambase.csv', header=None)"
   ]
  },
  {
   "cell_type": "code",
   "execution_count": 162,
   "id": "e830499c",
   "metadata": {},
   "outputs": [],
   "source": [
    "spam_X, spam_y = df.iloc[:, :57].values, df.iloc[:, 57].values"
   ]
  },
  {
   "cell_type": "code",
   "execution_count": 165,
   "id": "5ecc48ef",
   "metadata": {},
   "outputs": [
    {
     "name": "stdout",
     "output_type": "stream",
     "text": [
      "This is the following Score: \n",
      "5: {'Average Accuracy': 70.45, 'Standard Deviation': 0.36}\n",
      "10: {'Average Accuracy': 68.93, 'Standard Deviation': 0.38}\n",
      "15: {'Average Accuracy': 60.48, 'Standard Deviation': 0.48}\n",
      "20: {'Average Accuracy': 60.61, 'Standard Deviation': 0.48}\n",
      "25: {'Average Accuracy': 60.61, 'Standard Deviation': 0.48}\n"
     ]
    }
   ],
   "source": [
    "# testing for different minimum number of instances for iris\n",
    "spamMin = [5,10,15,20,25]\n",
    "spamScore = {}\n",
    "\n",
    "for i in spamMin:\n",
    "    kFoldCrossValidation(spam_X,spam_y,i,spamScore)\n",
    "\n",
    "print(\"This is the following Score: \")\n",
    "for k,v in spamScore.items():\n",
    "    print(f\"{k}: {v}\")"
   ]
  },
  {
   "cell_type": "code",
   "execution_count": null,
   "id": "c27abcfa",
   "metadata": {},
   "outputs": [],
   "source": []
  }
 ],
 "metadata": {
  "kernelspec": {
   "display_name": "Python 3 (ipykernel)",
   "language": "python",
   "name": "python3"
  },
  "language_info": {
   "codemirror_mode": {
    "name": "ipython",
    "version": 3
   },
   "file_extension": ".py",
   "mimetype": "text/x-python",
   "name": "python",
   "nbconvert_exporter": "python",
   "pygments_lexer": "ipython3",
   "version": "3.9.16"
  }
 },
 "nbformat": 4,
 "nbformat_minor": 5
}
